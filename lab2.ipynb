{
 "cells": [
  {
   "cell_type": "markdown",
   "metadata": {},
   "source": [
    "# LAB-2-Simple Pyspark programmes"
   ]
  },
  {
   "cell_type": "code",
   "execution_count": 4,
   "metadata": {},
   "outputs": [],
   "source": [
    "from pyspark.sql import SparkSession\n",
    "from pyspark.sql.functions import col\n",
    "from pyspark.sql.functions import col, avg, sum"
   ]
  },
  {
   "cell_type": "markdown",
   "metadata": {},
   "source": [
    "Q1)Implement a PySpark script that applies transformations like filter and withColumn on a\n",
    "DataFrame"
   ]
  },
  {
   "cell_type": "code",
   "execution_count": 10,
   "metadata": {},
   "outputs": [
    {
     "name": "stderr",
     "output_type": "stream",
     "text": [
      "/home/lplab/anaconda3/lib/python3.7/site-packages/pyspark/context.py:317: FutureWarning: Python 3.7 support is deprecated in Spark 3.4.\n",
      "  warnings.warn(\"Python 3.7 support is deprecated in Spark 3.4.\", FutureWarning)\n"
     ]
    },
    {
     "name": "stdout",
     "output_type": "stream",
     "text": [
      "Original Dataframes:\n",
      "+------+---+\n",
      "|  Name|Age|\n",
      "+------+---+\n",
      "|  Adam| 31|\n",
      "|Funith| 60|\n",
      "| Alice| 28|\n",
      "+------+---+\n",
      "\n",
      "Transformed Dataframes:\n",
      "+------+---+--------+\n",
      "|  Name|Age|Age_half|\n",
      "+------+---+--------+\n",
      "|Funith| 60|    30.0|\n",
      "+------+---+--------+\n",
      "\n"
     ]
    }
   ],
   "source": [
    "spark = SparkSession.builder.appName(\"Dataframe Transformaton\").getOrCreate()\n",
    "\n",
    "data = [(\"Adam\", 31), (\"Funith\", 60), (\"Alice\", 28)]\n",
    "columns = [\"Name\", \"Age\"]\n",
    "df= spark.createDataFrame(data, columns)\n",
    "\n",
    "print(\"Original Dataframes:\")\n",
    "df.show()\n",
    "\n",
    "filtered_df = df.filter(col(\"Age\")>35)\n",
    "result_df = filtered_df.withColumn(\"Age_half\", col(\"Age\")/2)\n",
    "\n",
    "print(\"Transformed Dataframes:\")\n",
    "result_df.show()\n",
    "\n",
    "spark.stop()"
   ]
  },
  {
   "cell_type": "markdown",
   "metadata": {},
   "source": [
    "Q2) Write a PySpark script that performs actions like count and show on a DataFrame."
   ]
  },
  {
   "cell_type": "code",
   "execution_count": 14,
   "metadata": {},
   "outputs": [
    {
     "name": "stderr",
     "output_type": "stream",
     "text": [
      "/home/lplab/anaconda3/lib/python3.7/site-packages/pyspark/context.py:317: FutureWarning: Python 3.7 support is deprecated in Spark 3.4.\n",
      "  warnings.warn(\"Python 3.7 support is deprecated in Spark 3.4.\", FutureWarning)\n"
     ]
    },
    {
     "name": "stdout",
     "output_type": "stream",
     "text": [
      "Original Dataframe:\n",
      "+------+---+\n",
      "|  Name|Age|\n",
      "+------+---+\n",
      "|  Adam| 28|\n",
      "|Funith| 24|\n",
      "| Alice| 30|\n",
      "+------+---+\n",
      "\n",
      "Row count: 3\n"
     ]
    }
   ],
   "source": [
    "spark = SparkSession.builder.appName(\"DataFrameActions\").getOrCreate()\n",
    "\n",
    "data = [(\"Adam\", 28), (\"Funith\", 24), (\"Alice\", 30)]\n",
    "columns = [\"Name\", \"Age\"]\n",
    "df= spark.createDataFrame(data, columns)\n",
    "\n",
    "print(\"Original Dataframe:\")\n",
    "df.show()\n",
    "\n",
    "row_cnt = df.count()\n",
    "print(f\"Row count: {row_cnt}\")\n",
    "\n",
    "spark.stop()\n"
   ]
  },
  {
   "cell_type": "markdown",
   "metadata": {},
   "source": [
    "Q3)Demonstrate how to perform basic aggregations (e.g., sum, average) on a PySpark\n",
    "DataFrame."
   ]
  },
  {
   "cell_type": "code",
   "execution_count": null,
   "metadata": {},
   "outputs": [],
   "source": []
  }
 ],
 "metadata": {
  "kernelspec": {
   "display_name": "Python 3 (ipykernel)",
   "language": "python",
   "name": "python3"
  },
  "language_info": {
   "codemirror_mode": {
    "name": "ipython",
    "version": 3
   },
   "file_extension": ".py",
   "mimetype": "text/x-python",
   "name": "python",
   "nbconvert_exporter": "python",
   "pygments_lexer": "ipython3",
   "version": "3.7.0"
  }
 },
 "nbformat": 4,
 "nbformat_minor": 2
}
